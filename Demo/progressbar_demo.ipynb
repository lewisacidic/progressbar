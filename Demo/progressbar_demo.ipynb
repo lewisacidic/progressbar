{
 "metadata": {
  "name": "",
  "signature": "sha256:294770d4d05fbee033b6f3dc956141a898a7ea6d9430a41bc3ac29d2f14ec2fa"
 },
 "nbformat": 3,
 "nbformat_minor": 0,
 "worksheets": [
  {
   "cells": [
    {
     "cell_type": "code",
     "collapsed": false,
     "input": [
      "import progressbar\n",
      "import time"
     ],
     "language": "python",
     "metadata": {},
     "outputs": [],
     "prompt_number": 1
    },
    {
     "cell_type": "code",
     "collapsed": false,
     "input": [
      "for i in progressbar.ProgIter(xrange(100), rich=False):\n",
      "    time.sleep(0.01)"
     ],
     "language": "python",
     "metadata": {},
     "outputs": [
      {
       "output_type": "stream",
       "stream": "stdout",
       "text": [
        "\r",
        " [                       0%                       ]"
       ]
      },
      {
       "output_type": "stream",
       "stream": "stdout",
       "text": [
        "\r",
        " [                       1%                       ]"
       ]
      },
      {
       "output_type": "stream",
       "stream": "stdout",
       "text": [
        "\r",
        " [*                      2%                       ]"
       ]
      },
      {
       "output_type": "stream",
       "stream": "stdout",
       "text": [
        "\r",
        " [*                      3%                       ]"
       ]
      },
      {
       "output_type": "stream",
       "stream": "stdout",
       "text": [
        "\r",
        " [**                     4%                       ]"
       ]
      },
      {
       "output_type": "stream",
       "stream": "stdout",
       "text": [
        "\r",
        " [**                     5%                       ]"
       ]
      },
      {
       "output_type": "stream",
       "stream": "stdout",
       "text": [
        "\r",
        " [***                    6%                       ]"
       ]
      },
      {
       "output_type": "stream",
       "stream": "stdout",
       "text": [
        "\r",
        " [***                    7%                       ]"
       ]
      },
      {
       "output_type": "stream",
       "stream": "stdout",
       "text": [
        "\r",
        " [****                   8%                       ]"
       ]
      },
      {
       "output_type": "stream",
       "stream": "stdout",
       "text": [
        "\r",
        " [****                   9%                       ]"
       ]
      },
      {
       "output_type": "stream",
       "stream": "stdout",
       "text": [
        "\r",
        " [*****                 10%                       ]"
       ]
      },
      {
       "output_type": "stream",
       "stream": "stdout",
       "text": [
        "\r",
        " [*****                 11%                       ]"
       ]
      },
      {
       "output_type": "stream",
       "stream": "stdout",
       "text": [
        "\r",
        " [******                12%                       ]"
       ]
      },
      {
       "output_type": "stream",
       "stream": "stdout",
       "text": [
        "\r",
        " [******                13%                       ]"
       ]
      },
      {
       "output_type": "stream",
       "stream": "stdout",
       "text": [
        "\r",
        " [*******               14%                       ]"
       ]
      },
      {
       "output_type": "stream",
       "stream": "stdout",
       "text": [
        "\r",
        " [*******               15%                       ]"
       ]
      },
      {
       "output_type": "stream",
       "stream": "stdout",
       "text": [
        "\r",
        " [********              16%                       ]"
       ]
      },
      {
       "output_type": "stream",
       "stream": "stdout",
       "text": [
        "\r",
        " [********              17%                       ]"
       ]
      },
      {
       "output_type": "stream",
       "stream": "stdout",
       "text": [
        "\r",
        " [*********             18%                       ]"
       ]
      },
      {
       "output_type": "stream",
       "stream": "stdout",
       "text": [
        "\r",
        " [*********             19%                       ]"
       ]
      },
      {
       "output_type": "stream",
       "stream": "stdout",
       "text": [
        "\r",
        " [**********            20%                       ]"
       ]
      },
      {
       "output_type": "stream",
       "stream": "stdout",
       "text": [
        "\r",
        " [**********            21%                       ]"
       ]
      },
      {
       "output_type": "stream",
       "stream": "stdout",
       "text": [
        "\r",
        " [***********           22%                       ]"
       ]
      },
      {
       "output_type": "stream",
       "stream": "stdout",
       "text": [
        "\r",
        " [***********           23%                       ]"
       ]
      },
      {
       "output_type": "stream",
       "stream": "stdout",
       "text": [
        "\r",
        " [************          24%                       ]"
       ]
      },
      {
       "output_type": "stream",
       "stream": "stdout",
       "text": [
        "\r",
        " [************          25%                       ]"
       ]
      },
      {
       "output_type": "stream",
       "stream": "stdout",
       "text": [
        "\r",
        " [************          26%                       ]"
       ]
      },
      {
       "output_type": "stream",
       "stream": "stdout",
       "text": [
        "\r",
        " [*************         27%                       ]"
       ]
      },
      {
       "output_type": "stream",
       "stream": "stdout",
       "text": [
        "\r",
        " [*************         28%                       ]"
       ]
      },
      {
       "output_type": "stream",
       "stream": "stdout",
       "text": [
        "\r",
        " [**************        29%                       ]"
       ]
      },
      {
       "output_type": "stream",
       "stream": "stdout",
       "text": [
        "\r",
        " [**************        30%                       ]"
       ]
      },
      {
       "output_type": "stream",
       "stream": "stdout",
       "text": [
        "\r",
        " [***************       31%                       ]"
       ]
      },
      {
       "output_type": "stream",
       "stream": "stdout",
       "text": [
        "\r",
        " [***************       32%                       ]"
       ]
      },
      {
       "output_type": "stream",
       "stream": "stdout",
       "text": [
        "\r",
        " [****************      33%                       ]"
       ]
      },
      {
       "output_type": "stream",
       "stream": "stdout",
       "text": [
        "\r",
        " [****************      34%                       ]"
       ]
      },
      {
       "output_type": "stream",
       "stream": "stdout",
       "text": [
        "\r",
        " [*****************     35%                       ]"
       ]
      },
      {
       "output_type": "stream",
       "stream": "stdout",
       "text": [
        "\r",
        " [*****************     36%                       ]"
       ]
      },
      {
       "output_type": "stream",
       "stream": "stdout",
       "text": [
        "\r",
        " [******************    37%                       ]"
       ]
      },
      {
       "output_type": "stream",
       "stream": "stdout",
       "text": [
        "\r",
        " [******************    38%                       ]"
       ]
      },
      {
       "output_type": "stream",
       "stream": "stdout",
       "text": [
        "\r",
        " [*******************   39%                       ]"
       ]
      },
      {
       "output_type": "stream",
       "stream": "stdout",
       "text": [
        "\r",
        " [*******************   40%                       ]"
       ]
      },
      {
       "output_type": "stream",
       "stream": "stdout",
       "text": [
        "\r",
        " [********************  41%                       ]"
       ]
      },
      {
       "output_type": "stream",
       "stream": "stdout",
       "text": [
        "\r",
        " [********************  42%                       ]"
       ]
      },
      {
       "output_type": "stream",
       "stream": "stdout",
       "text": [
        "\r",
        " [********************* 43%                       ]"
       ]
      },
      {
       "output_type": "stream",
       "stream": "stdout",
       "text": [
        "\r",
        " [********************* 44%                       ]"
       ]
      },
      {
       "output_type": "stream",
       "stream": "stdout",
       "text": [
        "\r",
        " [**********************45%                       ]"
       ]
      },
      {
       "output_type": "stream",
       "stream": "stdout",
       "text": [
        "\r",
        " [**********************46%                       ]"
       ]
      },
      {
       "output_type": "stream",
       "stream": "stdout",
       "text": [
        "\r",
        " [**********************47%                       ]"
       ]
      },
      {
       "output_type": "stream",
       "stream": "stdout",
       "text": [
        "\r",
        " [**********************48%                       ]"
       ]
      },
      {
       "output_type": "stream",
       "stream": "stdout",
       "text": [
        "\r",
        " [**********************49%                       ]"
       ]
      },
      {
       "output_type": "stream",
       "stream": "stdout",
       "text": [
        "\r",
        " [**********************50%                       ]"
       ]
      },
      {
       "output_type": "stream",
       "stream": "stdout",
       "text": [
        "\r",
        " [**********************51%                       ]"
       ]
      },
      {
       "output_type": "stream",
       "stream": "stdout",
       "text": [
        "\r",
        " [**********************52%                       ]"
       ]
      },
      {
       "output_type": "stream",
       "stream": "stdout",
       "text": [
        "\r",
        " [**********************53%                       ]"
       ]
      },
      {
       "output_type": "stream",
       "stream": "stdout",
       "text": [
        "\r",
        " [**********************54%*                      ]"
       ]
      },
      {
       "output_type": "stream",
       "stream": "stdout",
       "text": [
        "\r",
        " [**********************55%*                      ]"
       ]
      },
      {
       "output_type": "stream",
       "stream": "stdout",
       "text": [
        "\r",
        " [**********************56%**                     ]"
       ]
      },
      {
       "output_type": "stream",
       "stream": "stdout",
       "text": [
        "\r",
        " [**********************57%**                     ]"
       ]
      },
      {
       "output_type": "stream",
       "stream": "stdout",
       "text": [
        "\r",
        " [**********************58%***                    ]"
       ]
      },
      {
       "output_type": "stream",
       "stream": "stdout",
       "text": [
        "\r",
        " [**********************59%***                    ]"
       ]
      },
      {
       "output_type": "stream",
       "stream": "stdout",
       "text": [
        "\r",
        " [**********************60%****                   ]"
       ]
      },
      {
       "output_type": "stream",
       "stream": "stdout",
       "text": [
        "\r",
        " [**********************61%****                   ]"
       ]
      },
      {
       "output_type": "stream",
       "stream": "stdout",
       "text": [
        "\r",
        " [**********************62%*****                  ]"
       ]
      },
      {
       "output_type": "stream",
       "stream": "stdout",
       "text": [
        "\r",
        " [**********************63%*****                  ]"
       ]
      },
      {
       "output_type": "stream",
       "stream": "stdout",
       "text": [
        "\r",
        " [**********************64%******                 ]"
       ]
      },
      {
       "output_type": "stream",
       "stream": "stdout",
       "text": [
        "\r",
        " [**********************65%******                 ]"
       ]
      },
      {
       "output_type": "stream",
       "stream": "stdout",
       "text": [
        "\r",
        " [**********************66%*******                ]"
       ]
      },
      {
       "output_type": "stream",
       "stream": "stdout",
       "text": [
        "\r",
        " [**********************67%*******                ]"
       ]
      },
      {
       "output_type": "stream",
       "stream": "stdout",
       "text": [
        "\r",
        " [**********************68%********               ]"
       ]
      },
      {
       "output_type": "stream",
       "stream": "stdout",
       "text": [
        "\r",
        " [**********************69%********               ]"
       ]
      },
      {
       "output_type": "stream",
       "stream": "stdout",
       "text": [
        "\r",
        " [**********************70%*********              ]"
       ]
      },
      {
       "output_type": "stream",
       "stream": "stdout",
       "text": [
        "\r",
        " [**********************71%*********              ]"
       ]
      },
      {
       "output_type": "stream",
       "stream": "stdout",
       "text": [
        "\r",
        " [**********************72%**********             ]"
       ]
      },
      {
       "output_type": "stream",
       "stream": "stdout",
       "text": [
        "\r",
        " [**********************73%**********             ]"
       ]
      },
      {
       "output_type": "stream",
       "stream": "stdout",
       "text": [
        "\r",
        " [**********************74%***********            ]"
       ]
      },
      {
       "output_type": "stream",
       "stream": "stdout",
       "text": [
        "\r",
        " [**********************75%***********            ]"
       ]
      },
      {
       "output_type": "stream",
       "stream": "stdout",
       "text": [
        "\r",
        " [**********************76%***********            ]"
       ]
      },
      {
       "output_type": "stream",
       "stream": "stdout",
       "text": [
        "\r",
        " [**********************77%************           ]"
       ]
      },
      {
       "output_type": "stream",
       "stream": "stdout",
       "text": [
        "\r",
        " [**********************78%************           ]"
       ]
      },
      {
       "output_type": "stream",
       "stream": "stdout",
       "text": [
        "\r",
        " [**********************79%*************          ]"
       ]
      },
      {
       "output_type": "stream",
       "stream": "stdout",
       "text": [
        "\r",
        " [**********************80%*************          ]"
       ]
      },
      {
       "output_type": "stream",
       "stream": "stdout",
       "text": [
        "\r",
        " [**********************81%**************         ]"
       ]
      },
      {
       "output_type": "stream",
       "stream": "stdout",
       "text": [
        "\r",
        " [**********************82%**************         ]"
       ]
      },
      {
       "output_type": "stream",
       "stream": "stdout",
       "text": [
        "\r",
        " [**********************83%***************        ]"
       ]
      },
      {
       "output_type": "stream",
       "stream": "stdout",
       "text": [
        "\r",
        " [**********************84%***************        ]"
       ]
      },
      {
       "output_type": "stream",
       "stream": "stdout",
       "text": [
        "\r",
        " [**********************85%****************       ]"
       ]
      },
      {
       "output_type": "stream",
       "stream": "stdout",
       "text": [
        "\r",
        " [**********************86%****************       ]"
       ]
      },
      {
       "output_type": "stream",
       "stream": "stdout",
       "text": [
        "\r",
        " [**********************87%*****************      ]"
       ]
      },
      {
       "output_type": "stream",
       "stream": "stdout",
       "text": [
        "\r",
        " [**********************88%*****************      ]"
       ]
      },
      {
       "output_type": "stream",
       "stream": "stdout",
       "text": [
        "\r",
        " [**********************89%******************     ]"
       ]
      },
      {
       "output_type": "stream",
       "stream": "stdout",
       "text": [
        "\r",
        " [**********************90%******************     ]"
       ]
      },
      {
       "output_type": "stream",
       "stream": "stdout",
       "text": [
        "\r",
        " [**********************91%*******************    ]"
       ]
      },
      {
       "output_type": "stream",
       "stream": "stdout",
       "text": [
        "\r",
        " [**********************92%*******************    ]"
       ]
      },
      {
       "output_type": "stream",
       "stream": "stdout",
       "text": [
        "\r",
        " [**********************93%********************   ]"
       ]
      },
      {
       "output_type": "stream",
       "stream": "stdout",
       "text": [
        "\r",
        " [**********************94%********************   ]"
       ]
      },
      {
       "output_type": "stream",
       "stream": "stdout",
       "text": [
        "\r",
        " [**********************95%*********************  ]"
       ]
      },
      {
       "output_type": "stream",
       "stream": "stdout",
       "text": [
        "\r",
        " [**********************96%*********************  ]"
       ]
      },
      {
       "output_type": "stream",
       "stream": "stdout",
       "text": [
        "\r",
        " [**********************97%********************** ]"
       ]
      },
      {
       "output_type": "stream",
       "stream": "stdout",
       "text": [
        "\r",
        " [**********************98%********************** ]"
       ]
      },
      {
       "output_type": "stream",
       "stream": "stdout",
       "text": [
        "\r",
        " [**********************99%***********************]"
       ]
      },
      {
       "output_type": "stream",
       "stream": "stdout",
       "text": [
        "\r"
       ]
      }
     ],
     "prompt_number": 2
    },
    {
     "cell_type": "code",
     "collapsed": false,
     "input": [
      "for i in progressbar.ProgIter(xrange(100), rich=True):\n",
      "    time.sleep(0.01)"
     ],
     "language": "python",
     "metadata": {},
     "outputs": [
      {
       "html": [
        "\n",
        "                             <progress\n",
        "                             value=\"0\"\n",
        "                             max=\"100\"\n",
        "                             id=\"ebb50b69-2864-4a64-98dc-36fb47d3565b\">\n",
        "                             </progress>\n",
        "                             "
       ],
       "metadata": {},
       "output_type": "display_data"
      },
      {
       "javascript": [
        "$('progress#ebb50b69-2864-4a64-98dc-36fb47d3565b').val('0')"
       ],
       "metadata": {},
       "output_type": "display_data"
      },
      {
       "javascript": [
        "$('progress#ebb50b69-2864-4a64-98dc-36fb47d3565b').val('1')"
       ],
       "metadata": {},
       "output_type": "display_data"
      },
      {
       "javascript": [
        "$('progress#ebb50b69-2864-4a64-98dc-36fb47d3565b').val('2')"
       ],
       "metadata": {},
       "output_type": "display_data"
      },
      {
       "javascript": [
        "$('progress#ebb50b69-2864-4a64-98dc-36fb47d3565b').val('3')"
       ],
       "metadata": {},
       "output_type": "display_data"
      },
      {
       "javascript": [
        "$('progress#ebb50b69-2864-4a64-98dc-36fb47d3565b').val('4')"
       ],
       "metadata": {},
       "output_type": "display_data"
      },
      {
       "javascript": [
        "$('progress#ebb50b69-2864-4a64-98dc-36fb47d3565b').val('5')"
       ],
       "metadata": {},
       "output_type": "display_data"
      },
      {
       "javascript": [
        "$('progress#ebb50b69-2864-4a64-98dc-36fb47d3565b').val('6')"
       ],
       "metadata": {},
       "output_type": "display_data"
      },
      {
       "javascript": [
        "$('progress#ebb50b69-2864-4a64-98dc-36fb47d3565b').val('7')"
       ],
       "metadata": {},
       "output_type": "display_data"
      },
      {
       "javascript": [
        "$('progress#ebb50b69-2864-4a64-98dc-36fb47d3565b').val('8')"
       ],
       "metadata": {},
       "output_type": "display_data"
      },
      {
       "javascript": [
        "$('progress#ebb50b69-2864-4a64-98dc-36fb47d3565b').val('9')"
       ],
       "metadata": {},
       "output_type": "display_data"
      },
      {
       "javascript": [
        "$('progress#ebb50b69-2864-4a64-98dc-36fb47d3565b').val('10')"
       ],
       "metadata": {},
       "output_type": "display_data"
      },
      {
       "javascript": [
        "$('progress#ebb50b69-2864-4a64-98dc-36fb47d3565b').val('11')"
       ],
       "metadata": {},
       "output_type": "display_data"
      },
      {
       "javascript": [
        "$('progress#ebb50b69-2864-4a64-98dc-36fb47d3565b').val('12')"
       ],
       "metadata": {},
       "output_type": "display_data"
      },
      {
       "javascript": [
        "$('progress#ebb50b69-2864-4a64-98dc-36fb47d3565b').val('13')"
       ],
       "metadata": {},
       "output_type": "display_data"
      },
      {
       "javascript": [
        "$('progress#ebb50b69-2864-4a64-98dc-36fb47d3565b').val('14')"
       ],
       "metadata": {},
       "output_type": "display_data"
      },
      {
       "javascript": [
        "$('progress#ebb50b69-2864-4a64-98dc-36fb47d3565b').val('15')"
       ],
       "metadata": {},
       "output_type": "display_data"
      },
      {
       "javascript": [
        "$('progress#ebb50b69-2864-4a64-98dc-36fb47d3565b').val('16')"
       ],
       "metadata": {},
       "output_type": "display_data"
      },
      {
       "javascript": [
        "$('progress#ebb50b69-2864-4a64-98dc-36fb47d3565b').val('17')"
       ],
       "metadata": {},
       "output_type": "display_data"
      },
      {
       "javascript": [
        "$('progress#ebb50b69-2864-4a64-98dc-36fb47d3565b').val('18')"
       ],
       "metadata": {},
       "output_type": "display_data"
      },
      {
       "javascript": [
        "$('progress#ebb50b69-2864-4a64-98dc-36fb47d3565b').val('19')"
       ],
       "metadata": {},
       "output_type": "display_data"
      },
      {
       "javascript": [
        "$('progress#ebb50b69-2864-4a64-98dc-36fb47d3565b').val('20')"
       ],
       "metadata": {},
       "output_type": "display_data"
      },
      {
       "javascript": [
        "$('progress#ebb50b69-2864-4a64-98dc-36fb47d3565b').val('21')"
       ],
       "metadata": {},
       "output_type": "display_data"
      },
      {
       "javascript": [
        "$('progress#ebb50b69-2864-4a64-98dc-36fb47d3565b').val('22')"
       ],
       "metadata": {},
       "output_type": "display_data"
      },
      {
       "javascript": [
        "$('progress#ebb50b69-2864-4a64-98dc-36fb47d3565b').val('23')"
       ],
       "metadata": {},
       "output_type": "display_data"
      },
      {
       "javascript": [
        "$('progress#ebb50b69-2864-4a64-98dc-36fb47d3565b').val('24')"
       ],
       "metadata": {},
       "output_type": "display_data"
      },
      {
       "javascript": [
        "$('progress#ebb50b69-2864-4a64-98dc-36fb47d3565b').val('25')"
       ],
       "metadata": {},
       "output_type": "display_data"
      },
      {
       "javascript": [
        "$('progress#ebb50b69-2864-4a64-98dc-36fb47d3565b').val('26')"
       ],
       "metadata": {},
       "output_type": "display_data"
      },
      {
       "javascript": [
        "$('progress#ebb50b69-2864-4a64-98dc-36fb47d3565b').val('27')"
       ],
       "metadata": {},
       "output_type": "display_data"
      },
      {
       "javascript": [
        "$('progress#ebb50b69-2864-4a64-98dc-36fb47d3565b').val('28')"
       ],
       "metadata": {},
       "output_type": "display_data"
      },
      {
       "javascript": [
        "$('progress#ebb50b69-2864-4a64-98dc-36fb47d3565b').val('29')"
       ],
       "metadata": {},
       "output_type": "display_data"
      },
      {
       "javascript": [
        "$('progress#ebb50b69-2864-4a64-98dc-36fb47d3565b').val('30')"
       ],
       "metadata": {},
       "output_type": "display_data"
      },
      {
       "javascript": [
        "$('progress#ebb50b69-2864-4a64-98dc-36fb47d3565b').val('31')"
       ],
       "metadata": {},
       "output_type": "display_data"
      },
      {
       "javascript": [
        "$('progress#ebb50b69-2864-4a64-98dc-36fb47d3565b').val('32')"
       ],
       "metadata": {},
       "output_type": "display_data"
      },
      {
       "javascript": [
        "$('progress#ebb50b69-2864-4a64-98dc-36fb47d3565b').val('33')"
       ],
       "metadata": {},
       "output_type": "display_data"
      },
      {
       "javascript": [
        "$('progress#ebb50b69-2864-4a64-98dc-36fb47d3565b').val('34')"
       ],
       "metadata": {},
       "output_type": "display_data"
      },
      {
       "javascript": [
        "$('progress#ebb50b69-2864-4a64-98dc-36fb47d3565b').val('35')"
       ],
       "metadata": {},
       "output_type": "display_data"
      },
      {
       "javascript": [
        "$('progress#ebb50b69-2864-4a64-98dc-36fb47d3565b').val('36')"
       ],
       "metadata": {},
       "output_type": "display_data"
      },
      {
       "javascript": [
        "$('progress#ebb50b69-2864-4a64-98dc-36fb47d3565b').val('37')"
       ],
       "metadata": {},
       "output_type": "display_data"
      },
      {
       "javascript": [
        "$('progress#ebb50b69-2864-4a64-98dc-36fb47d3565b').val('38')"
       ],
       "metadata": {},
       "output_type": "display_data"
      },
      {
       "javascript": [
        "$('progress#ebb50b69-2864-4a64-98dc-36fb47d3565b').val('39')"
       ],
       "metadata": {},
       "output_type": "display_data"
      },
      {
       "javascript": [
        "$('progress#ebb50b69-2864-4a64-98dc-36fb47d3565b').val('40')"
       ],
       "metadata": {},
       "output_type": "display_data"
      },
      {
       "javascript": [
        "$('progress#ebb50b69-2864-4a64-98dc-36fb47d3565b').val('41')"
       ],
       "metadata": {},
       "output_type": "display_data"
      },
      {
       "javascript": [
        "$('progress#ebb50b69-2864-4a64-98dc-36fb47d3565b').val('42')"
       ],
       "metadata": {},
       "output_type": "display_data"
      },
      {
       "javascript": [
        "$('progress#ebb50b69-2864-4a64-98dc-36fb47d3565b').val('43')"
       ],
       "metadata": {},
       "output_type": "display_data"
      },
      {
       "javascript": [
        "$('progress#ebb50b69-2864-4a64-98dc-36fb47d3565b').val('44')"
       ],
       "metadata": {},
       "output_type": "display_data"
      },
      {
       "javascript": [
        "$('progress#ebb50b69-2864-4a64-98dc-36fb47d3565b').val('45')"
       ],
       "metadata": {},
       "output_type": "display_data"
      },
      {
       "javascript": [
        "$('progress#ebb50b69-2864-4a64-98dc-36fb47d3565b').val('46')"
       ],
       "metadata": {},
       "output_type": "display_data"
      },
      {
       "javascript": [
        "$('progress#ebb50b69-2864-4a64-98dc-36fb47d3565b').val('47')"
       ],
       "metadata": {},
       "output_type": "display_data"
      },
      {
       "javascript": [
        "$('progress#ebb50b69-2864-4a64-98dc-36fb47d3565b').val('48')"
       ],
       "metadata": {},
       "output_type": "display_data"
      },
      {
       "javascript": [
        "$('progress#ebb50b69-2864-4a64-98dc-36fb47d3565b').val('49')"
       ],
       "metadata": {},
       "output_type": "display_data"
      },
      {
       "javascript": [
        "$('progress#ebb50b69-2864-4a64-98dc-36fb47d3565b').val('50')"
       ],
       "metadata": {},
       "output_type": "display_data"
      },
      {
       "javascript": [
        "$('progress#ebb50b69-2864-4a64-98dc-36fb47d3565b').val('51')"
       ],
       "metadata": {},
       "output_type": "display_data"
      },
      {
       "javascript": [
        "$('progress#ebb50b69-2864-4a64-98dc-36fb47d3565b').val('52')"
       ],
       "metadata": {},
       "output_type": "display_data"
      },
      {
       "javascript": [
        "$('progress#ebb50b69-2864-4a64-98dc-36fb47d3565b').val('53')"
       ],
       "metadata": {},
       "output_type": "display_data"
      },
      {
       "javascript": [
        "$('progress#ebb50b69-2864-4a64-98dc-36fb47d3565b').val('54')"
       ],
       "metadata": {},
       "output_type": "display_data"
      },
      {
       "javascript": [
        "$('progress#ebb50b69-2864-4a64-98dc-36fb47d3565b').val('55')"
       ],
       "metadata": {},
       "output_type": "display_data"
      },
      {
       "javascript": [
        "$('progress#ebb50b69-2864-4a64-98dc-36fb47d3565b').val('56')"
       ],
       "metadata": {},
       "output_type": "display_data"
      },
      {
       "javascript": [
        "$('progress#ebb50b69-2864-4a64-98dc-36fb47d3565b').val('57')"
       ],
       "metadata": {},
       "output_type": "display_data"
      },
      {
       "javascript": [
        "$('progress#ebb50b69-2864-4a64-98dc-36fb47d3565b').val('58')"
       ],
       "metadata": {},
       "output_type": "display_data"
      },
      {
       "javascript": [
        "$('progress#ebb50b69-2864-4a64-98dc-36fb47d3565b').val('59')"
       ],
       "metadata": {},
       "output_type": "display_data"
      },
      {
       "javascript": [
        "$('progress#ebb50b69-2864-4a64-98dc-36fb47d3565b').val('60')"
       ],
       "metadata": {},
       "output_type": "display_data"
      },
      {
       "javascript": [
        "$('progress#ebb50b69-2864-4a64-98dc-36fb47d3565b').val('61')"
       ],
       "metadata": {},
       "output_type": "display_data"
      },
      {
       "javascript": [
        "$('progress#ebb50b69-2864-4a64-98dc-36fb47d3565b').val('62')"
       ],
       "metadata": {},
       "output_type": "display_data"
      },
      {
       "javascript": [
        "$('progress#ebb50b69-2864-4a64-98dc-36fb47d3565b').val('63')"
       ],
       "metadata": {},
       "output_type": "display_data"
      },
      {
       "javascript": [
        "$('progress#ebb50b69-2864-4a64-98dc-36fb47d3565b').val('64')"
       ],
       "metadata": {},
       "output_type": "display_data"
      },
      {
       "javascript": [
        "$('progress#ebb50b69-2864-4a64-98dc-36fb47d3565b').val('65')"
       ],
       "metadata": {},
       "output_type": "display_data"
      },
      {
       "javascript": [
        "$('progress#ebb50b69-2864-4a64-98dc-36fb47d3565b').val('66')"
       ],
       "metadata": {},
       "output_type": "display_data"
      },
      {
       "javascript": [
        "$('progress#ebb50b69-2864-4a64-98dc-36fb47d3565b').val('67')"
       ],
       "metadata": {},
       "output_type": "display_data"
      },
      {
       "javascript": [
        "$('progress#ebb50b69-2864-4a64-98dc-36fb47d3565b').val('68')"
       ],
       "metadata": {},
       "output_type": "display_data"
      },
      {
       "javascript": [
        "$('progress#ebb50b69-2864-4a64-98dc-36fb47d3565b').val('69')"
       ],
       "metadata": {},
       "output_type": "display_data"
      },
      {
       "javascript": [
        "$('progress#ebb50b69-2864-4a64-98dc-36fb47d3565b').val('70')"
       ],
       "metadata": {},
       "output_type": "display_data"
      },
      {
       "javascript": [
        "$('progress#ebb50b69-2864-4a64-98dc-36fb47d3565b').val('71')"
       ],
       "metadata": {},
       "output_type": "display_data"
      },
      {
       "javascript": [
        "$('progress#ebb50b69-2864-4a64-98dc-36fb47d3565b').val('72')"
       ],
       "metadata": {},
       "output_type": "display_data"
      },
      {
       "javascript": [
        "$('progress#ebb50b69-2864-4a64-98dc-36fb47d3565b').val('73')"
       ],
       "metadata": {},
       "output_type": "display_data"
      },
      {
       "javascript": [
        "$('progress#ebb50b69-2864-4a64-98dc-36fb47d3565b').val('74')"
       ],
       "metadata": {},
       "output_type": "display_data"
      },
      {
       "javascript": [
        "$('progress#ebb50b69-2864-4a64-98dc-36fb47d3565b').val('75')"
       ],
       "metadata": {},
       "output_type": "display_data"
      },
      {
       "javascript": [
        "$('progress#ebb50b69-2864-4a64-98dc-36fb47d3565b').val('76')"
       ],
       "metadata": {},
       "output_type": "display_data"
      },
      {
       "javascript": [
        "$('progress#ebb50b69-2864-4a64-98dc-36fb47d3565b').val('77')"
       ],
       "metadata": {},
       "output_type": "display_data"
      },
      {
       "javascript": [
        "$('progress#ebb50b69-2864-4a64-98dc-36fb47d3565b').val('78')"
       ],
       "metadata": {},
       "output_type": "display_data"
      },
      {
       "javascript": [
        "$('progress#ebb50b69-2864-4a64-98dc-36fb47d3565b').val('79')"
       ],
       "metadata": {},
       "output_type": "display_data"
      },
      {
       "javascript": [
        "$('progress#ebb50b69-2864-4a64-98dc-36fb47d3565b').val('80')"
       ],
       "metadata": {},
       "output_type": "display_data"
      },
      {
       "javascript": [
        "$('progress#ebb50b69-2864-4a64-98dc-36fb47d3565b').val('81')"
       ],
       "metadata": {},
       "output_type": "display_data"
      },
      {
       "javascript": [
        "$('progress#ebb50b69-2864-4a64-98dc-36fb47d3565b').val('82')"
       ],
       "metadata": {},
       "output_type": "display_data"
      },
      {
       "javascript": [
        "$('progress#ebb50b69-2864-4a64-98dc-36fb47d3565b').val('83')"
       ],
       "metadata": {},
       "output_type": "display_data"
      },
      {
       "javascript": [
        "$('progress#ebb50b69-2864-4a64-98dc-36fb47d3565b').val('84')"
       ],
       "metadata": {},
       "output_type": "display_data"
      },
      {
       "javascript": [
        "$('progress#ebb50b69-2864-4a64-98dc-36fb47d3565b').val('85')"
       ],
       "metadata": {},
       "output_type": "display_data"
      },
      {
       "javascript": [
        "$('progress#ebb50b69-2864-4a64-98dc-36fb47d3565b').val('86')"
       ],
       "metadata": {},
       "output_type": "display_data"
      },
      {
       "javascript": [
        "$('progress#ebb50b69-2864-4a64-98dc-36fb47d3565b').val('87')"
       ],
       "metadata": {},
       "output_type": "display_data"
      },
      {
       "javascript": [
        "$('progress#ebb50b69-2864-4a64-98dc-36fb47d3565b').val('88')"
       ],
       "metadata": {},
       "output_type": "display_data"
      },
      {
       "javascript": [
        "$('progress#ebb50b69-2864-4a64-98dc-36fb47d3565b').val('89')"
       ],
       "metadata": {},
       "output_type": "display_data"
      },
      {
       "javascript": [
        "$('progress#ebb50b69-2864-4a64-98dc-36fb47d3565b').val('90')"
       ],
       "metadata": {},
       "output_type": "display_data"
      },
      {
       "javascript": [
        "$('progress#ebb50b69-2864-4a64-98dc-36fb47d3565b').val('91')"
       ],
       "metadata": {},
       "output_type": "display_data"
      },
      {
       "javascript": [
        "$('progress#ebb50b69-2864-4a64-98dc-36fb47d3565b').val('92')"
       ],
       "metadata": {},
       "output_type": "display_data"
      },
      {
       "javascript": [
        "$('progress#ebb50b69-2864-4a64-98dc-36fb47d3565b').val('93')"
       ],
       "metadata": {},
       "output_type": "display_data"
      },
      {
       "javascript": [
        "$('progress#ebb50b69-2864-4a64-98dc-36fb47d3565b').val('94')"
       ],
       "metadata": {},
       "output_type": "display_data"
      },
      {
       "javascript": [
        "$('progress#ebb50b69-2864-4a64-98dc-36fb47d3565b').val('95')"
       ],
       "metadata": {},
       "output_type": "display_data"
      },
      {
       "javascript": [
        "$('progress#ebb50b69-2864-4a64-98dc-36fb47d3565b').val('96')"
       ],
       "metadata": {},
       "output_type": "display_data"
      },
      {
       "javascript": [
        "$('progress#ebb50b69-2864-4a64-98dc-36fb47d3565b').val('97')"
       ],
       "metadata": {},
       "output_type": "display_data"
      },
      {
       "javascript": [
        "$('progress#ebb50b69-2864-4a64-98dc-36fb47d3565b').val('98')"
       ],
       "metadata": {},
       "output_type": "display_data"
      },
      {
       "javascript": [
        "$('progress#ebb50b69-2864-4a64-98dc-36fb47d3565b').val('99')"
       ],
       "metadata": {},
       "output_type": "display_data"
      },
      {
       "javascript": [
        "var elem = document.getElementById('ebb50b69-2864-4a64-98dc-36fb47d3565b'); elem.parentNode.removeChild(elem);"
       ],
       "metadata": {},
       "output_type": "display_data"
      }
     ],
     "prompt_number": 3
    },
    {
     "cell_type": "code",
     "collapsed": false,
     "input": [],
     "language": "python",
     "metadata": {},
     "outputs": []
    }
   ],
   "metadata": {}
  }
 ]
}